{
  "nbformat": 4,
  "nbformat_minor": 0,
  "metadata": {
    "colab": {
      "name": "Dostoevsky_Sentinent.ipynb",
      "provenance": []
    },
    "kernelspec": {
      "name": "python3",
      "display_name": "Python 3"
    },
    "language_info": {
      "name": "python"
    }
  },
  "cells": [
    {
      "cell_type": "code",
      "execution_count": null,
      "metadata": {
        "id": "cY7dK0ms3oqO"
      },
      "outputs": [],
      "source": [
        "!pip install dostoevsky"
      ]
    },
    {
      "cell_type": "code",
      "source": [
        "!pip install transformers"
      ],
      "metadata": {
        "id": "-FCuZ8--6Vkl"
      },
      "execution_count": null,
      "outputs": []
    },
    {
      "cell_type": "code",
      "source": [
        "!python3 -m dostoevsky download fasttext-social-network-model"
      ],
      "metadata": {
        "id": "20dpNitf5LLd"
      },
      "execution_count": 7,
      "outputs": []
    },
    {
      "cell_type": "code",
      "source": [
        "from transformers import GPT2Tokenizer, GPT2LMHeadModel\n",
        "import math\n",
        "import pandas as pd\n",
        "import torch\n",
        "from tqdm import tqdm\n",
        "from dostoevsky.tokenization import RegexTokenizer\n",
        "from dostoevsky.models import FastTextSocialNetworkModel"
      ],
      "metadata": {
        "id": "iqRVRHQ16SIn"
      },
      "execution_count": 13,
      "outputs": []
    },
    {
      "cell_type": "code",
      "source": [
        "tokenizer = RegexTokenizer()\n",
        "model = FastTextSocialNetworkModel(tokenizer=tokenizer)"
      ],
      "metadata": {
        "colab": {
          "base_uri": "https://localhost:8080/"
        },
        "id": "pvAeHUOK6Ihc",
        "outputId": "93ae53c7-13da-4321-b35e-2071894ca685"
      },
      "execution_count": 14,
      "outputs": [
        {
          "output_type": "stream",
          "name": "stderr",
          "text": [
            "Warning : `load_model` does not return WordVectorModel or SupervisedModel any more, but a `FastText` object which is very similar.\n"
          ]
        }
      ]
    },
    {
      "cell_type": "code",
      "source": [
        "device = torch.device(\"cuda\" if torch.cuda.is_available() else \"cpu\")"
      ],
      "metadata": {
        "id": "XlpshdsR6Od6"
      },
      "execution_count": 15,
      "outputs": []
    },
    {
      "cell_type": "code",
      "source": [
        "DIRID = 'roscomsvoboda'\n",
        "PUBID = \"roscomsv\""
      ],
      "metadata": {
        "id": "6lOsJ1O-FFxZ"
      },
      "execution_count": 65,
      "outputs": []
    },
    {
      "cell_type": "code",
      "source": [
        "comments = pd.read_parquet(f\"/content/drive/My Drive/{DIRID}/comments_{PUBID}.parquet\")"
      ],
      "metadata": {
        "id": "JLaEe9yk6H6B"
      },
      "execution_count": 67,
      "outputs": []
    },
    {
      "cell_type": "code",
      "source": [
        "comm_filt = comments[comments.text != '']\n",
        "comm_filt = comm_filt[comm_filt.text.str.contains('[А-яа-я]')]\n",
        "comm_filt.index = pd.RangeIndex(len(comm_filt.index))\n",
        "len(comm_filt)"
      ],
      "metadata": {
        "colab": {
          "base_uri": "https://localhost:8080/"
        },
        "id": "5g9cHPmjEUkr",
        "outputId": "63151944-eab0-4abb-9dd9-55705f04382b"
      },
      "execution_count": 54,
      "outputs": [
        {
          "output_type": "execute_result",
          "data": {
            "text/plain": [
              "77839"
            ]
          },
          "metadata": {},
          "execution_count": 54
        }
      ]
    },
    {
      "cell_type": "code",
      "source": [
        "texts = comm_filt.text\n",
        "results = model.predict(texts, k=2)"
      ],
      "metadata": {
        "id": "HQv-tCeg5WpA"
      },
      "execution_count": 55,
      "outputs": []
    },
    {
      "cell_type": "code",
      "source": [
        "res_labels = []\n",
        "for kvp in results:\n",
        "  maxkey = max(kvp, key=kvp.get)\n",
        "  if (maxkey == 'skip'):\n",
        "    maxkey = min(kvp, key=kvp.get)\n",
        "  res_labels.append(maxkey)"
      ],
      "metadata": {
        "id": "WRIHuRik8MjH"
      },
      "execution_count": 56,
      "outputs": []
    },
    {
      "cell_type": "code",
      "source": [
        "len(res_labels)"
      ],
      "metadata": {
        "colab": {
          "base_uri": "https://localhost:8080/"
        },
        "id": "VUgIk9g6ENTW",
        "outputId": "5d7e2d2b-0fb3-4d60-ff89-c5a0b0657254"
      },
      "execution_count": 57,
      "outputs": [
        {
          "output_type": "execute_result",
          "data": {
            "text/plain": [
              "77839"
            ]
          },
          "metadata": {},
          "execution_count": 57
        }
      ]
    },
    {
      "cell_type": "code",
      "source": [
        "res_labels[3]"
      ],
      "metadata": {
        "colab": {
          "base_uri": "https://localhost:8080/",
          "height": 35
        },
        "id": "DilZs_6mDojp",
        "outputId": "f0bd42d0-ae31-469c-c9a1-1d04f6f54c1b"
      },
      "execution_count": 61,
      "outputs": [
        {
          "output_type": "execute_result",
          "data": {
            "text/plain": [
              "'negative'"
            ],
            "application/vnd.google.colaboratory.intrinsic+json": {
              "type": "string"
            }
          },
          "metadata": {},
          "execution_count": 61
        }
      ]
    },
    {
      "cell_type": "code",
      "source": [
        "comm_filt['prediction'] = res_labels"
      ],
      "metadata": {
        "id": "6E9xyR-U7Rn9"
      },
      "execution_count": 62,
      "outputs": []
    },
    {
      "cell_type": "code",
      "source": [
        "comm_filt.head()"
      ],
      "metadata": {
        "colab": {
          "base_uri": "https://localhost:8080/",
          "height": 250
        },
        "id": "_VGGrj17FVNw",
        "outputId": "1cacd10a-de2d-4bf6-a4b9-1bdb4743ecb5"
      },
      "execution_count": 63,
      "outputs": [
        {
          "output_type": "execute_result",
          "data": {
            "text/plain": [
              "         date    from_id      id  owner_id  post_id  \\\n",
              "0  1653989748  -42716524  111376 -45023092   111375   \n",
              "1  1653994537   14338960  111377 -45023092   111375   \n",
              "2  1654003739   20520693  111386 -45023092   111375   \n",
              "3  1656244206  162855206  112248 -45023092   111375   \n",
              "4  1656089020  538546283  112230 -45023092   112229   \n",
              "\n",
              "                                                text prediction  \n",
              "0  Под предлогом борьбы с цензурой , поставить св...    neutral  \n",
              "1  А с каких пор провластная точка зрения априори...   negative  \n",
              "2  \"Родительский контроль направлен на то, чтобы ...    neutral  \n",
              "3  Мало нам цензуры государства, теперь имеем ещё...   negative  \n",
              "4  Если иконку Фэйсбука кто - нибудь в посте или ...    neutral  "
            ],
            "text/html": [
              "\n",
              "  <div id=\"df-5df05c88-55fb-4dc4-bdaa-25113c693c96\">\n",
              "    <div class=\"colab-df-container\">\n",
              "      <div>\n",
              "<style scoped>\n",
              "    .dataframe tbody tr th:only-of-type {\n",
              "        vertical-align: middle;\n",
              "    }\n",
              "\n",
              "    .dataframe tbody tr th {\n",
              "        vertical-align: top;\n",
              "    }\n",
              "\n",
              "    .dataframe thead th {\n",
              "        text-align: right;\n",
              "    }\n",
              "</style>\n",
              "<table border=\"1\" class=\"dataframe\">\n",
              "  <thead>\n",
              "    <tr style=\"text-align: right;\">\n",
              "      <th></th>\n",
              "      <th>date</th>\n",
              "      <th>from_id</th>\n",
              "      <th>id</th>\n",
              "      <th>owner_id</th>\n",
              "      <th>post_id</th>\n",
              "      <th>text</th>\n",
              "      <th>prediction</th>\n",
              "    </tr>\n",
              "  </thead>\n",
              "  <tbody>\n",
              "    <tr>\n",
              "      <th>0</th>\n",
              "      <td>1653989748</td>\n",
              "      <td>-42716524</td>\n",
              "      <td>111376</td>\n",
              "      <td>-45023092</td>\n",
              "      <td>111375</td>\n",
              "      <td>Под предлогом борьбы с цензурой , поставить св...</td>\n",
              "      <td>neutral</td>\n",
              "    </tr>\n",
              "    <tr>\n",
              "      <th>1</th>\n",
              "      <td>1653994537</td>\n",
              "      <td>14338960</td>\n",
              "      <td>111377</td>\n",
              "      <td>-45023092</td>\n",
              "      <td>111375</td>\n",
              "      <td>А с каких пор провластная точка зрения априори...</td>\n",
              "      <td>negative</td>\n",
              "    </tr>\n",
              "    <tr>\n",
              "      <th>2</th>\n",
              "      <td>1654003739</td>\n",
              "      <td>20520693</td>\n",
              "      <td>111386</td>\n",
              "      <td>-45023092</td>\n",
              "      <td>111375</td>\n",
              "      <td>\"Родительский контроль направлен на то, чтобы ...</td>\n",
              "      <td>neutral</td>\n",
              "    </tr>\n",
              "    <tr>\n",
              "      <th>3</th>\n",
              "      <td>1656244206</td>\n",
              "      <td>162855206</td>\n",
              "      <td>112248</td>\n",
              "      <td>-45023092</td>\n",
              "      <td>111375</td>\n",
              "      <td>Мало нам цензуры государства, теперь имеем ещё...</td>\n",
              "      <td>negative</td>\n",
              "    </tr>\n",
              "    <tr>\n",
              "      <th>4</th>\n",
              "      <td>1656089020</td>\n",
              "      <td>538546283</td>\n",
              "      <td>112230</td>\n",
              "      <td>-45023092</td>\n",
              "      <td>112229</td>\n",
              "      <td>Если иконку Фэйсбука кто - нибудь в посте или ...</td>\n",
              "      <td>neutral</td>\n",
              "    </tr>\n",
              "  </tbody>\n",
              "</table>\n",
              "</div>\n",
              "      <button class=\"colab-df-convert\" onclick=\"convertToInteractive('df-5df05c88-55fb-4dc4-bdaa-25113c693c96')\"\n",
              "              title=\"Convert this dataframe to an interactive table.\"\n",
              "              style=\"display:none;\">\n",
              "        \n",
              "  <svg xmlns=\"http://www.w3.org/2000/svg\" height=\"24px\"viewBox=\"0 0 24 24\"\n",
              "       width=\"24px\">\n",
              "    <path d=\"M0 0h24v24H0V0z\" fill=\"none\"/>\n",
              "    <path d=\"M18.56 5.44l.94 2.06.94-2.06 2.06-.94-2.06-.94-.94-2.06-.94 2.06-2.06.94zm-11 1L8.5 8.5l.94-2.06 2.06-.94-2.06-.94L8.5 2.5l-.94 2.06-2.06.94zm10 10l.94 2.06.94-2.06 2.06-.94-2.06-.94-.94-2.06-.94 2.06-2.06.94z\"/><path d=\"M17.41 7.96l-1.37-1.37c-.4-.4-.92-.59-1.43-.59-.52 0-1.04.2-1.43.59L10.3 9.45l-7.72 7.72c-.78.78-.78 2.05 0 2.83L4 21.41c.39.39.9.59 1.41.59.51 0 1.02-.2 1.41-.59l7.78-7.78 2.81-2.81c.8-.78.8-2.07 0-2.86zM5.41 20L4 18.59l7.72-7.72 1.47 1.35L5.41 20z\"/>\n",
              "  </svg>\n",
              "      </button>\n",
              "      \n",
              "  <style>\n",
              "    .colab-df-container {\n",
              "      display:flex;\n",
              "      flex-wrap:wrap;\n",
              "      gap: 12px;\n",
              "    }\n",
              "\n",
              "    .colab-df-convert {\n",
              "      background-color: #E8F0FE;\n",
              "      border: none;\n",
              "      border-radius: 50%;\n",
              "      cursor: pointer;\n",
              "      display: none;\n",
              "      fill: #1967D2;\n",
              "      height: 32px;\n",
              "      padding: 0 0 0 0;\n",
              "      width: 32px;\n",
              "    }\n",
              "\n",
              "    .colab-df-convert:hover {\n",
              "      background-color: #E2EBFA;\n",
              "      box-shadow: 0px 1px 2px rgba(60, 64, 67, 0.3), 0px 1px 3px 1px rgba(60, 64, 67, 0.15);\n",
              "      fill: #174EA6;\n",
              "    }\n",
              "\n",
              "    [theme=dark] .colab-df-convert {\n",
              "      background-color: #3B4455;\n",
              "      fill: #D2E3FC;\n",
              "    }\n",
              "\n",
              "    [theme=dark] .colab-df-convert:hover {\n",
              "      background-color: #434B5C;\n",
              "      box-shadow: 0px 1px 3px 1px rgba(0, 0, 0, 0.15);\n",
              "      filter: drop-shadow(0px 1px 2px rgba(0, 0, 0, 0.3));\n",
              "      fill: #FFFFFF;\n",
              "    }\n",
              "  </style>\n",
              "\n",
              "      <script>\n",
              "        const buttonEl =\n",
              "          document.querySelector('#df-5df05c88-55fb-4dc4-bdaa-25113c693c96 button.colab-df-convert');\n",
              "        buttonEl.style.display =\n",
              "          google.colab.kernel.accessAllowed ? 'block' : 'none';\n",
              "\n",
              "        async function convertToInteractive(key) {\n",
              "          const element = document.querySelector('#df-5df05c88-55fb-4dc4-bdaa-25113c693c96');\n",
              "          const dataTable =\n",
              "            await google.colab.kernel.invokeFunction('convertToInteractive',\n",
              "                                                     [key], {});\n",
              "          if (!dataTable) return;\n",
              "\n",
              "          const docLinkHtml = 'Like what you see? Visit the ' +\n",
              "            '<a target=\"_blank\" href=https://colab.research.google.com/notebooks/data_table.ipynb>data table notebook</a>'\n",
              "            + ' to learn more about interactive tables.';\n",
              "          element.innerHTML = '';\n",
              "          dataTable['output_type'] = 'display_data';\n",
              "          await google.colab.output.renderOutput(dataTable, element);\n",
              "          const docLink = document.createElement('div');\n",
              "          docLink.innerHTML = docLinkHtml;\n",
              "          element.appendChild(docLink);\n",
              "        }\n",
              "      </script>\n",
              "    </div>\n",
              "  </div>\n",
              "  "
            ]
          },
          "metadata": {},
          "execution_count": 63
        }
      ]
    },
    {
      "cell_type": "code",
      "source": [
        "comm_filt.to_parquet(f\"/content/drive/My Drive/{DIRID}/users_friends_sent_{PUBID}.parquet\")"
      ],
      "metadata": {
        "id": "Guk0q_wiFBx7"
      },
      "execution_count": 68,
      "outputs": []
    }
  ]
}
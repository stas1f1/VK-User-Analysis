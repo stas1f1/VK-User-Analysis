{
  "cells": [
    {
      "cell_type": "code",
      "execution_count": null,
      "id": "smoking-coordinator",
      "metadata": {
        "id": "smoking-coordinator"
      },
      "outputs": [],
      "source": [
        "import socket\n",
        "import pandas as pd\n",
        "from datetime import datetime as dt\n",
        "from pyspark.sql import SparkSession\n",
        "from pyspark.sql import SQLContext as sc\n",
        "from pyspark.sql.functions import *\n",
        "from pyspark.sql.types import *\n",
        "from pyspark.sql.catalog import *\n",
        "from pyspark.sql.window import Window\n",
        "import matplotlib.pyplot as plt\n",
        "import numpy as np"
      ]
    },
    {
      "cell_type": "code",
      "execution_count": null,
      "id": "offensive-artwork",
      "metadata": {
        "id": "offensive-artwork"
      },
      "outputs": [],
      "source": [
        "# Pandas settings\n",
        "pd.set_option('display.max_rows', 100)\n",
        "pd.set_option('display.max_columns', None)"
      ]
    },
    {
      "cell_type": "code",
      "execution_count": null,
      "id": "cathedral-curve",
      "metadata": {
        "id": "cathedral-curve"
      },
      "outputs": [],
      "source": [
        "LOCAL_IP = socket.gethostbyname(socket.gethostname())\n",
        "spark = (\n",
        "    SparkSession\n",
        "    .builder\n",
        "    .master('k8s://https://10.32.7.103:6443')\n",
        "    .config('spark.driver.host', LOCAL_IP)\n",
        "    .config('spark.driver.bindAddress', '0.0.0.0')\n",
        "    .config('spark.executor.instances', '2')\n",
        "    .config('spark.executor.cores', '2')\n",
        "    .config('spark.cores.max', '4')\n",
        "    .config('spark.executor.memory', '4g')\n",
        "    #.config('spark.sql.execution.arrow.enabled', 'true')\n",
        "    .config('spark.kubernetes.namespace', 'juumnov-338467')\n",
        "    .config('spark.kubernetes.container.image', 'node03.st:5000/spark-executor:juumnov-338467')\n",
        "    .config('spark.kubernetes.container.image.pullPolicy', 'Always')\n",
        "    .config('spark.kubernetes.executor.deleteOnTermination', 'false')\n",
        "    .getOrCreate()\n",
        ")"
      ]
    },
    {
      "cell_type": "code",
      "execution_count": null,
      "id": "ordered-sharp",
      "metadata": {
        "id": "ordered-sharp",
        "outputId": "3a5cd426-8646-4282-f69f-e9563358fe4a"
      },
      "outputs": [
        {
          "name": "stdout",
          "output_type": "stream",
          "text": [
            "WARNING: An illegal reflective access operation has occurred\n",
            "WARNING: Illegal reflective access by org.apache.hadoop.security.authentication.util.KerberosUtil (file:/opt/hadoop-2.7.2/share/hadoop/common/lib/hadoop-auth-2.7.2.jar) to method sun.security.krb5.Config.getInstance()\n",
            "WARNING: Please consider reporting this to the maintainers of org.apache.hadoop.security.authentication.util.KerberosUtil\n",
            "WARNING: Use --illegal-access=warn to enable warnings of further illegal reflective access operations\n",
            "WARNING: All illegal access operations will be denied in a future release\n",
            "Found 13 items\n",
            "-rw-r--r--   3 agalin-335417 supergroup   91289802 2022-06-26 14:01 /tmp/agalin-335417/ibd_data/posts/posts_1tv.parquet\n",
            "-rw-r--r--   3 agalin-335417 supergroup  101119380 2022-06-26 14:04 /tmp/agalin-335417/ibd_data/posts/posts_lentach.parquet\n",
            "-rw-r--r--   3 agalin-335417 supergroup  216703435 2022-06-27 00:54 /tmp/agalin-335417/ibd_data/posts/posts_life.parquet\n",
            "-rw-r--r--   3 agalin-335417 supergroup   27474132 2022-06-26 22:16 /tmp/agalin-335417/ibd_data/posts/posts_mash.parquet\n",
            "-rw-r--r--   3 agalin-335417 supergroup  104658861 2022-06-26 18:42 /tmp/agalin-335417/ibd_data/posts/posts_meduza.parquet\n",
            "-rw-r--r--   3 agalin-335417 supergroup   85278321 2022-06-26 20:33 /tmp/agalin-335417/ibd_data/posts/posts_plohienov.parquet\n",
            "-rw-r--r--   3 agalin-335417 supergroup  123844043 2022-06-26 20:36 /tmp/agalin-335417/ibd_data/posts/posts_rentv.parquet\n",
            "-rw-r--r--   3 agalin-335417 supergroup  216554917 2022-06-26 20:42 /tmp/agalin-335417/ibd_data/posts/posts_ria.parquet\n",
            "-rw-r--r--   3 agalin-335417 supergroup   15908179 2022-06-26 18:43 /tmp/agalin-335417/ibd_data/posts/posts_roscomsv.parquet\n",
            "-rw-r--r--   3 agalin-335417 supergroup   24791997 2022-06-26 18:44 /tmp/agalin-335417/ibd_data/posts/posts_topor.parquet\n",
            "-rw-r--r--   3 agalin-335417 supergroup  163055571 2022-06-26 18:48 /tmp/agalin-335417/ibd_data/posts/posts_tvrain.parquet\n",
            "-rw-r--r--   3 agalin-335417 supergroup   31842436 2022-06-27 00:55 /tmp/agalin-335417/ibd_data/posts/posts_vesti.parquet\n",
            "-rw-r--r--   3 agalin-335417 supergroup  145312295 2022-06-26 14:08 /tmp/agalin-335417/ibd_data/posts/rbk_posts_parquet.parquet\n"
          ]
        }
      ],
      "source": [
        "# For checking\n",
        "!hdfs dfs -ls /tmp/agalin-335417/ibd_data/posts"
      ]
    },
    {
      "cell_type": "markdown",
      "id": "raising-inside",
      "metadata": {
        "id": "raising-inside"
      },
      "source": [
        "### Function for saving results"
      ]
    },
    {
      "cell_type": "code",
      "execution_count": null,
      "id": "coated-treasure",
      "metadata": {
        "id": "coated-treasure"
      },
      "outputs": [],
      "source": [
        "# This function is useful for saving stages results if it is needed to use them in the further work\n",
        "def save_parquet(data, name):\n",
        "    file_name = '/tmp/juumnov-338467/Course_project_results/' + name\n",
        "    start_time = dt.now()\n",
        "    data.write.parquet(file_name, mode = 'overwrite')\n",
        "    print('>>>>>> file: ' + file_name + ' >>> time: ' + str(dt.now() - start_time))\n",
        "    data = spark.read.parquet(file_name)"
      ]
    },
    {
      "cell_type": "markdown",
      "id": "welsh-blocking",
      "metadata": {
        "id": "welsh-blocking"
      },
      "source": [
        "### Read and union all neccessary data"
      ]
    },
    {
      "cell_type": "code",
      "execution_count": null,
      "id": "still-remainder",
      "metadata": {
        "id": "still-remainder"
      },
      "outputs": [],
      "source": [
        "def get_data():\n",
        "    posts = spark.createDataFrame([], spark.read.parquet(\"hdfs:///tmp/agalin-335417/ibd_data/posts/rbk_posts_parquet.parquet\").drop('attachments','copy_history','comments','copyright').schema)\n",
        "    comments = spark.createDataFrame([], spark.read.parquet(\"hdfs:///tmp/agalin-335417/ibd_data/comments/users_friends_sent_rbk.parquet\").schema)\n",
        "    users = spark.createDataFrame([], spark.read.parquet(\"hdfs:///tmp/agalin-335417/ibd_data/users/rbk_users_friends_parquet.parquet\").schema)\n",
        "\n",
        "    path_posts = !hdfs dfs -ls /tmp/agalin-335417/ibd_data/posts\n",
        "    for i in path_posts[6:]:\n",
        "        posts = posts.union(spark.read.parquet('hdfs:///' + i.split(' ')[-1]).drop('attachments','copy_history','comments','copyright'))\n",
        "    path_comments = !hdfs dfs -ls /tmp/agalin-335417/ibd_data/comments\n",
        "    for i in path_comments[6:]:\n",
        "        comments = comments.union(spark.read.parquet('hdfs:///' + i.split(' ')[-1]))\n",
        "    path_users = !hdfs dfs -ls /tmp/agalin-335417/ibd_data/users\n",
        "    for i in path_users[6:]:\n",
        "        users = users.union(spark.read.parquet('hdfs:///' + i.split(' ')[-1]))\n",
        "   \n",
        "    return posts, comments, users"
      ]
    },
    {
      "cell_type": "code",
      "execution_count": null,
      "id": "quiet-still",
      "metadata": {
        "id": "quiet-still"
      },
      "outputs": [],
      "source": [
        "posts, comments, users = get_data()"
      ]
    },
    {
      "cell_type": "code",
      "execution_count": null,
      "id": "voluntary-practitioner",
      "metadata": {
        "id": "voluntary-practitioner"
      },
      "outputs": [],
      "source": [
        "# Remove deplicates from users by profile ids\n",
        "users = users.dropDuplicates(['id'])"
      ]
    },
    {
      "cell_type": "code",
      "execution_count": null,
      "id": "hawaiian-thomson",
      "metadata": {
        "id": "hawaiian-thomson"
      },
      "outputs": [],
      "source": [
        "names = spark.read.parquet(\"hdfs:///tmp/agalin-335417/ibd_data/CIS_names_parquet.parquet\")"
      ]
    },
    {
      "cell_type": "code",
      "execution_count": null,
      "id": "thirty-detail",
      "metadata": {
        "id": "thirty-detail",
        "outputId": "364a3602-8ac6-4223-80e7-847d051d3b3c"
      },
      "outputs": [
        {
          "data": {
            "text/html": [
              "<div>\n",
              "<style scoped>\n",
              "    .dataframe tbody tr th:only-of-type {\n",
              "        vertical-align: middle;\n",
              "    }\n",
              "\n",
              "    .dataframe tbody tr th {\n",
              "        vertical-align: top;\n",
              "    }\n",
              "\n",
              "    .dataframe thead th {\n",
              "        text-align: right;\n",
              "    }\n",
              "</style>\n",
              "<table border=\"1\" class=\"dataframe\">\n",
              "  <thead>\n",
              "    <tr style=\"text-align: right;\">\n",
              "      <th></th>\n",
              "      <th>id</th>\n",
              "      <th>owner_id</th>\n",
              "      <th>from_id</th>\n",
              "      <th>created_by</th>\n",
              "      <th>date</th>\n",
              "      <th>text</th>\n",
              "      <th>reply_post_id</th>\n",
              "      <th>reply_owner_id</th>\n",
              "      <th>likes</th>\n",
              "      <th>reposts</th>\n",
              "      <th>post_type</th>\n",
              "    </tr>\n",
              "  </thead>\n",
              "  <tbody>\n",
              "    <tr>\n",
              "      <th>0</th>\n",
              "      <td>2862067</td>\n",
              "      <td>-25380626</td>\n",
              "      <td>-25380626</td>\n",
              "      <td>NaN</td>\n",
              "      <td>1646227305</td>\n",
              "      <td>Первый канал — в прямом эфире ⬇</td>\n",
              "      <td>NaN</td>\n",
              "      <td>NaN</td>\n",
              "      <td>(1, 1, 3672, 0)</td>\n",
              "      <td>(835, 0)</td>\n",
              "      <td>post</td>\n",
              "    </tr>\n",
              "    <tr>\n",
              "      <th>1</th>\n",
              "      <td>2943800</td>\n",
              "      <td>-25380626</td>\n",
              "      <td>-25380626</td>\n",
              "      <td>NaN</td>\n",
              "      <td>1656169380</td>\n",
              "      <td>К 110-летию со дня рождения Сергея Филиппова ❤...</td>\n",
              "      <td>NaN</td>\n",
              "      <td>NaN</td>\n",
              "      <td>(1, 1, 105, 0)</td>\n",
              "      <td>(5, 0)</td>\n",
              "      <td>post</td>\n",
              "    </tr>\n",
              "    <tr>\n",
              "      <th>2</th>\n",
              "      <td>2943765</td>\n",
              "      <td>-25380626</td>\n",
              "      <td>-25380626</td>\n",
              "      <td>NaN</td>\n",
              "      <td>1656162180</td>\n",
              "      <td>Лига Бокса\\nСуббота, 25 июня\\nИнтерконтинентал...</td>\n",
              "      <td>NaN</td>\n",
              "      <td>NaN</td>\n",
              "      <td>(1, 1, 21, 0)</td>\n",
              "      <td>(3, 0)</td>\n",
              "      <td>post</td>\n",
              "    </tr>\n",
              "  </tbody>\n",
              "</table>\n",
              "</div>"
            ],
            "text/plain": [
              "        id  owner_id   from_id  created_by        date  \\\n",
              "0  2862067 -25380626 -25380626         NaN  1646227305   \n",
              "1  2943800 -25380626 -25380626         NaN  1656169380   \n",
              "2  2943765 -25380626 -25380626         NaN  1656162180   \n",
              "\n",
              "                                                text  reply_post_id  \\\n",
              "0                    Первый канал — в прямом эфире ⬇            NaN   \n",
              "1  К 110-летию со дня рождения Сергея Филиппова ❤...            NaN   \n",
              "2  Лига Бокса\\nСуббота, 25 июня\\nИнтерконтинентал...            NaN   \n",
              "\n",
              "   reply_owner_id            likes   reposts post_type  \n",
              "0             NaN  (1, 1, 3672, 0)  (835, 0)      post  \n",
              "1             NaN   (1, 1, 105, 0)    (5, 0)      post  \n",
              "2             NaN    (1, 1, 21, 0)    (3, 0)      post  "
            ]
          },
          "execution_count": 10,
          "metadata": {},
          "output_type": "execute_result"
        }
      ],
      "source": [
        "posts.limit(3).toPandas()"
      ]
    },
    {
      "cell_type": "code",
      "execution_count": null,
      "id": "unlimited-stylus",
      "metadata": {
        "id": "unlimited-stylus",
        "outputId": "6d2195a4-066a-4cd7-d2ed-8952badb96a4"
      },
      "outputs": [
        {
          "data": {
            "text/html": [
              "<div>\n",
              "<style scoped>\n",
              "    .dataframe tbody tr th:only-of-type {\n",
              "        vertical-align: middle;\n",
              "    }\n",
              "\n",
              "    .dataframe tbody tr th {\n",
              "        vertical-align: top;\n",
              "    }\n",
              "\n",
              "    .dataframe thead th {\n",
              "        text-align: right;\n",
              "    }\n",
              "</style>\n",
              "<table border=\"1\" class=\"dataframe\">\n",
              "  <thead>\n",
              "    <tr style=\"text-align: right;\">\n",
              "      <th></th>\n",
              "      <th>date</th>\n",
              "      <th>from_id</th>\n",
              "      <th>id</th>\n",
              "      <th>owner_id</th>\n",
              "      <th>post_id</th>\n",
              "      <th>text</th>\n",
              "      <th>prediction</th>\n",
              "    </tr>\n",
              "  </thead>\n",
              "  <tbody>\n",
              "    <tr>\n",
              "      <th>0</th>\n",
              "      <td>1646228423</td>\n",
              "      <td>134948776</td>\n",
              "      <td>2862090</td>\n",
              "      <td>-25380626</td>\n",
              "      <td>2862067</td>\n",
              "      <td>Эти придурки уже взламывают аптечные приложени...</td>\n",
              "      <td>neutral</td>\n",
              "    </tr>\n",
              "    <tr>\n",
              "      <th>1</th>\n",
              "      <td>1646228427</td>\n",
              "      <td>162828015</td>\n",
              "      <td>2862091</td>\n",
              "      <td>-25380626</td>\n",
              "      <td>2862067</td>\n",
              "      <td>Это надо всё ОСТАНОВИТЬ мирным путём !!!</td>\n",
              "      <td>negative</td>\n",
              "    </tr>\n",
              "    <tr>\n",
              "      <th>2</th>\n",
              "      <td>1646229306</td>\n",
              "      <td>4463147</td>\n",
              "      <td>2862103</td>\n",
              "      <td>-25380626</td>\n",
              "      <td>2862067</td>\n",
              "      <td>Фейсбук заблокировал меня сразу же, как только...</td>\n",
              "      <td>neutral</td>\n",
              "    </tr>\n",
              "  </tbody>\n",
              "</table>\n",
              "</div>"
            ],
            "text/plain": [
              "         date    from_id       id  owner_id  post_id  \\\n",
              "0  1646228423  134948776  2862090 -25380626  2862067   \n",
              "1  1646228427  162828015  2862091 -25380626  2862067   \n",
              "2  1646229306    4463147  2862103 -25380626  2862067   \n",
              "\n",
              "                                                text prediction  \n",
              "0  Эти придурки уже взламывают аптечные приложени...    neutral  \n",
              "1           Это надо всё ОСТАНОВИТЬ мирным путём !!!   negative  \n",
              "2  Фейсбук заблокировал меня сразу же, как только...    neutral  "
            ]
          },
          "execution_count": 11,
          "metadata": {},
          "output_type": "execute_result"
        }
      ],
      "source": [
        "comments.limit(3).toPandas()"
      ]
    },
    {
      "cell_type": "code",
      "execution_count": null,
      "id": "manufactured-target",
      "metadata": {
        "id": "manufactured-target",
        "outputId": "eb9c6998-d426-4e25-c47b-f545a2f735ee"
      },
      "outputs": [
        {
          "data": {
            "text/html": [
              "<div>\n",
              "<style scoped>\n",
              "    .dataframe tbody tr th:only-of-type {\n",
              "        vertical-align: middle;\n",
              "    }\n",
              "\n",
              "    .dataframe tbody tr th {\n",
              "        vertical-align: top;\n",
              "    }\n",
              "\n",
              "    .dataframe thead th {\n",
              "        text-align: right;\n",
              "    }\n",
              "</style>\n",
              "<table border=\"1\" class=\"dataframe\">\n",
              "  <thead>\n",
              "    <tr style=\"text-align: right;\">\n",
              "      <th></th>\n",
              "      <th>id</th>\n",
              "      <th>private</th>\n",
              "      <th>friends</th>\n",
              "      <th>subscriptions</th>\n",
              "      <th>first_name</th>\n",
              "      <th>last_name</th>\n",
              "      <th>blacklisted</th>\n",
              "      <th>country</th>\n",
              "      <th>education</th>\n",
              "      <th>followers_count</th>\n",
              "      <th>has_photo</th>\n",
              "      <th>home_town</th>\n",
              "      <th>interests</th>\n",
              "      <th>has_mobile</th>\n",
              "      <th>occupation</th>\n",
              "      <th>religion</th>\n",
              "      <th>inspired_by</th>\n",
              "      <th>langs</th>\n",
              "      <th>political</th>\n",
              "      <th>verified</th>\n",
              "      <th>career</th>\n",
              "      <th>deactivated</th>\n",
              "      <th>is_closed</th>\n",
              "    </tr>\n",
              "  </thead>\n",
              "  <tbody>\n",
              "    <tr>\n",
              "      <th>0</th>\n",
              "      <td>25084</td>\n",
              "      <td>0</td>\n",
              "      <td>[14075, 14634, 14845, 21860, 23678, 57929, 751...</td>\n",
              "      <td>[22741624, 29369324, 88084325, 30525261, 41807...</td>\n",
              "      <td>Eduard</td>\n",
              "      <td>Boytsov</td>\n",
              "      <td>0.0</td>\n",
              "      <td>(1, Russia)</td>\n",
              "      <td>NaN</td>\n",
              "      <td>1114.0</td>\n",
              "      <td>1</td>\n",
              "      <td>𝓢𝓐𝓘𝓝𝓣-𝓟𝓔𝓣𝓔𝓡𝓢𝓑𝓤𝓡𝓖</td>\n",
              "      <td></td>\n",
              "      <td>1.0</td>\n",
              "      <td>(None, None, None, 45301852, LEX - Ваша особая...</td>\n",
              "      <td>NaN</td>\n",
              "      <td>NaN</td>\n",
              "      <td>NaN</td>\n",
              "      <td>NaN</td>\n",
              "      <td>0.0</td>\n",
              "      <td>[(2, None, 1, None, 36589976, IT, None), (None...</td>\n",
              "      <td>None</td>\n",
              "      <td>False</td>\n",
              "    </tr>\n",
              "    <tr>\n",
              "      <th>1</th>\n",
              "      <td>35323</td>\n",
              "      <td>0</td>\n",
              "      <td>None</td>\n",
              "      <td>None</td>\n",
              "      <td>Anatoly</td>\n",
              "      <td>Umerenkov</td>\n",
              "      <td>0.0</td>\n",
              "      <td>(1, Russia)</td>\n",
              "      <td>NaN</td>\n",
              "      <td>NaN</td>\n",
              "      <td>1</td>\n",
              "      <td>None</td>\n",
              "      <td>None</td>\n",
              "      <td>1.0</td>\n",
              "      <td>(None, None, None, None, Психиатрическая больн...</td>\n",
              "      <td>NaN</td>\n",
              "      <td>NaN</td>\n",
              "      <td>NaN</td>\n",
              "      <td>NaN</td>\n",
              "      <td>0.0</td>\n",
              "      <td>None</td>\n",
              "      <td>None</td>\n",
              "      <td>True</td>\n",
              "    </tr>\n",
              "    <tr>\n",
              "      <th>2</th>\n",
              "      <td>50287</td>\n",
              "      <td>0</td>\n",
              "      <td>None</td>\n",
              "      <td>None</td>\n",
              "      <td>Kristina</td>\n",
              "      <td>Alexandrova</td>\n",
              "      <td>0.0</td>\n",
              "      <td>(1, Russia)</td>\n",
              "      <td>NaN</td>\n",
              "      <td>NaN</td>\n",
              "      <td>1</td>\n",
              "      <td>None</td>\n",
              "      <td>None</td>\n",
              "      <td>1.0</td>\n",
              "      <td>(None, None, None, 58727144, ЦБ РФ Центральный...</td>\n",
              "      <td>NaN</td>\n",
              "      <td>NaN</td>\n",
              "      <td>NaN</td>\n",
              "      <td>NaN</td>\n",
              "      <td>0.0</td>\n",
              "      <td>None</td>\n",
              "      <td>None</td>\n",
              "      <td>True</td>\n",
              "    </tr>\n",
              "  </tbody>\n",
              "</table>\n",
              "</div>"
            ],
            "text/plain": [
              "      id  private                                            friends  \\\n",
              "0  25084        0  [14075, 14634, 14845, 21860, 23678, 57929, 751...   \n",
              "1  35323        0                                               None   \n",
              "2  50287        0                                               None   \n",
              "\n",
              "                                       subscriptions first_name    last_name  \\\n",
              "0  [22741624, 29369324, 88084325, 30525261, 41807...     Eduard      Boytsov   \n",
              "1                                               None    Anatoly    Umerenkov   \n",
              "2                                               None   Kristina  Alexandrova   \n",
              "\n",
              "   blacklisted      country  education  followers_count  has_photo  \\\n",
              "0          0.0  (1, Russia)        NaN           1114.0          1   \n",
              "1          0.0  (1, Russia)        NaN              NaN          1   \n",
              "2          0.0  (1, Russia)        NaN              NaN          1   \n",
              "\n",
              "          home_town interests  has_mobile  \\\n",
              "0  𝓢𝓐𝓘𝓝𝓣-𝓟𝓔𝓣𝓔𝓡𝓢𝓑𝓤𝓡𝓖                   1.0   \n",
              "1              None      None         1.0   \n",
              "2              None      None         1.0   \n",
              "\n",
              "                                          occupation  religion  inspired_by  \\\n",
              "0  (None, None, None, 45301852, LEX - Ваша особая...       NaN          NaN   \n",
              "1  (None, None, None, None, Психиатрическая больн...       NaN          NaN   \n",
              "2  (None, None, None, 58727144, ЦБ РФ Центральный...       NaN          NaN   \n",
              "\n",
              "   langs  political  verified  \\\n",
              "0    NaN        NaN       0.0   \n",
              "1    NaN        NaN       0.0   \n",
              "2    NaN        NaN       0.0   \n",
              "\n",
              "                                              career deactivated  is_closed  \n",
              "0  [(2, None, 1, None, 36589976, IT, None), (None...        None      False  \n",
              "1                                               None        None       True  \n",
              "2                                               None        None       True  "
            ]
          },
          "execution_count": 12,
          "metadata": {},
          "output_type": "execute_result"
        }
      ],
      "source": [
        "users.limit(3).toPandas()"
      ]
    },
    {
      "cell_type": "markdown",
      "id": "listed-focus",
      "metadata": {
        "id": "listed-focus"
      },
      "source": [
        "### Users types"
      ]
    },
    {
      "cell_type": "code",
      "execution_count": null,
      "id": "intended-bookmark",
      "metadata": {
        "id": "intended-bookmark"
      },
      "outputs": [],
      "source": [
        "users_opened = users.filter(col('is_closed') == False)\n",
        "users_closed = users.filter(col('is_closed') == True)"
      ]
    },
    {
      "cell_type": "code",
      "execution_count": null,
      "id": "animal-brief",
      "metadata": {
        "id": "animal-brief"
      },
      "outputs": [],
      "source": [
        "users_banned = users.filter(col('deactivated') == 'banned')\n",
        "users_deleted = users.filter(col('deactivated') == 'deleted')\n",
        "users_verified = users.filter(col('verified') == 1)\n",
        "users_unverified = users.filter(col('verified') == 0)"
      ]
    },
    {
      "cell_type": "code",
      "execution_count": null,
      "id": "informative-charger",
      "metadata": {
        "id": "informative-charger"
      },
      "outputs": [],
      "source": [
        "n_unique = users.count()\n",
        "n_opened = users_opened.count()\n",
        "n_closed = users_closed.count()\n",
        "n_banned = users_banned.count()\n",
        "n_deleted = users_deleted.count()\n",
        "n_verified = users_verified.count()\n",
        "n_unverified = users_unverified.count()"
      ]
    },
    {
      "cell_type": "code",
      "execution_count": null,
      "id": "major-yacht",
      "metadata": {
        "id": "major-yacht",
        "outputId": "c319bc19-0e53-46b5-a0f6-2de38de53e2a"
      },
      "outputs": [
        {
          "data": {
            "image/png": "[encoded data removed]",
            "text/plain": [
              "<Figure size 1080x288 with 3 Axes>"
            ]
          },
          "metadata": {},
          "output_type": "display_data"
        }
      ],
      "source": [
        "fig, ax = plt.subplots(figsize=(15,4), nrows=1, ncols=3)\n",
        "fig.suptitle(\"Accounts types\", fontsize=24)\n",
        "ax[0].pie([n_opened, n_closed], \n",
        "          labels=['Opened', 'Closed'], \n",
        "          autopct='%1.2f%%', \n",
        "          radius=1.2, \n",
        "          wedgeprops={'linewidth': 1.0, 'edgecolor': 'white'}, \n",
        "          textprops={'size': 12}, \n",
        "          colors=['green','orange'])\n",
        "ax[1].pie([n_unique - n_banned - n_deleted, n_deleted, n_banned], \n",
        "          labels=['Alive', 'Deleted', 'Banned'], \n",
        "          autopct='%1.2f%%', \n",
        "          radius=1.2, \n",
        "          wedgeprops={'linewidth': 1.0, 'edgecolor': 'white'}, \n",
        "          textprops={'size': 12}, \n",
        "          colors=['green','orange', 'red'])\n",
        "ax[2].pie([n_unverified, n_unique - n_verified - n_unverified, n_verified], \n",
        "          labels=['Unverified', 'No info (Deleted/Banned)', 'Verified'], \n",
        "          autopct='%1.2f%%', \n",
        "          radius=1.2, \n",
        "          wedgeprops={'linewidth': 1.0, 'edgecolor': 'white'}, \n",
        "          textprops={'size': 12}, \n",
        "          colors=['green','orange', 'red'])\n",
        "plt.show()"
      ]
    },
    {
      "cell_type": "markdown",
      "id": "brutal-withdrawal",
      "metadata": {
        "id": "brutal-withdrawal"
      },
      "source": [
        "### Data processing"
      ]
    },
    {
      "cell_type": "code",
      "execution_count": null,
      "id": "connected-entrepreneur",
      "metadata": {
        "id": "connected-entrepreneur"
      },
      "outputs": [],
      "source": [
        "users_opened_proc = users_opened.withColumn('followers_count', col('followers_count').cast(IntegerType()))\\\n",
        "                                .withColumn('interests', when(col('interests') == '', None).otherwise(col('interests')))\\\n",
        "                                .withColumn('home_town', when(col('home_town') == '', None).otherwise(col('home_town')))\\\n",
        "                                .withColumn('deactivated', when(col('deactivated').isNull(), 'Alive').otherwise(col('deactivated')))\\\n",
        "                                .drop('blacklisted')"
      ]
    },
    {
      "cell_type": "markdown",
      "id": "armed-listening",
      "metadata": {
        "id": "armed-listening"
      },
      "source": [
        "### Users comments stats"
      ]
    },
    {
      "cell_type": "code",
      "execution_count": null,
      "id": "stopped-verse",
      "metadata": {
        "id": "stopped-verse"
      },
      "outputs": [],
      "source": [
        "users_neg_com_share = comments.groupBy('from_id')\\\n",
        "                              .agg(count(lit(0)).name('n_total'), count(when(col('prediction') == 'negative', True)).name('n_negative'))\\\n",
        "                              .withColumn('neg_share', col('n_negative') / col('n_total'))\\\n",
        "                              .select(col('from_id').name('id'), 'neg_share')"
      ]
    },
    {
      "cell_type": "code",
      "execution_count": null,
      "id": "differential-cement",
      "metadata": {
        "id": "differential-cement"
      },
      "outputs": [],
      "source": [
        "# For reading if needed data was already obtained\n",
        "users_neg_com_share = spark.read.parquet('/tmp/juumnov-338467/Course_project_results/users_neg_com_share')"
      ]
    },
    {
      "cell_type": "code",
      "execution_count": null,
      "id": "growing-officer",
      "metadata": {
        "id": "growing-officer",
        "outputId": "8177f234-43c3-4a85-fd31-88de2772c430"
      },
      "outputs": [
        {
          "name": "stdout",
          "output_type": "stream",
          "text": [
            ">>>>>> file: /tmp/juumnov-338467/Course_project_results/users_neg_com_share >>> time: 0:00:10.727572\n"
          ]
        }
      ],
      "source": [
        "save_parquet(users_neg_com_share, 'users_neg_com_share')"
      ]
    },
    {
      "cell_type": "markdown",
      "id": "diverse-latino",
      "metadata": {
        "id": "diverse-latino"
      },
      "source": [
        "### Critical points"
      ]
    },
    {
      "cell_type": "code",
      "execution_count": null,
      "id": "understood-reach",
      "metadata": {
        "id": "understood-reach"
      },
      "outputs": [],
      "source": [
        "users_opened_rp = users_opened_proc.filter(col('friends').isNotNull() & col('subscriptions').isNotNull())\\\n",
        "                                   .filter(~col('deactivated').isin('deleted', 'banned'))\\\n",
        "                                   .filter(col('verified') != 1)\\\n",
        "                                   .withColumn('n_friends', size(col('friends')))\\\n",
        "                                   .withColumn('n_subscriptions', size(col('subscriptions')))\\\n",
        "                                   .withColumn('few_followers', when(col('followers_count') < 10, 1).otherwise(0))\\\n",
        "                                   .withColumn('few_friends', when(col('n_friends') < 10, 1).otherwise(0))\\\n",
        "                                   .withColumn('few_subscriptions', when(col('n_subscriptions') < 10, 1).otherwise(0))\\\n",
        "                                   .withColumn('no_photo', when(col('has_photo') == 0, 1).otherwise(0))\\\n",
        "                                   .withColumn('no_mobile', when(col('has_mobile') == 1, 0).otherwise(1))\\\n",
        "                                   .withColumn('no_town', when(col('home_town').isNull(), 1).otherwise(0))\\\n",
        "                                   .withColumn('no_extended_info', when(col('interests').isNull() \n",
        "                                                                        & col('religion').isNull() \n",
        "                                                                        & col('country').isNull() \n",
        "                                                                        & col('inspired_by').isNull()  \n",
        "                                                                        & col('political').isNull(), 1).otherwise(0))\\\n",
        "                                   .withColumn('no_prof_info', when(col('education').isNull() \n",
        "                                                                    & col('career').isNull() \n",
        "                                                                    & col('occupation').isNull(), 1).otherwise(0))\\\n",
        "                                   .withColumn('n_risks', col('few_followers') + col('few_friends') + col('few_subscriptions') + col('no_photo') + col('no_mobile') + col('no_town') + col('no_extended_info') + col('no_prof_info'))"
      ]
    },
    {
      "cell_type": "code",
      "execution_count": null,
      "id": "temporal-parade",
      "metadata": {
        "id": "temporal-parade"
      },
      "outputs": [],
      "source": [
        "# For reading if needed data was already obtained\n",
        "users_opened_rp = spark.read.parquet('/tmp/juumnov-338467/Course_project_results/users_opened_rp')"
      ]
    },
    {
      "cell_type": "code",
      "execution_count": null,
      "id": "chief-field",
      "metadata": {
        "id": "chief-field",
        "outputId": "67455455-e6b4-4e04-ebda-b0e0f91465e8"
      },
      "outputs": [
        {
          "name": "stdout",
          "output_type": "stream",
          "text": [
            ">>>>>> file: /tmp/juumnov-338467/Course_project_results/users_opened_rp >>> time: 0:10:13.791732\n"
          ]
        }
      ],
      "source": [
        "save_parquet(users_opened_rp, 'users_opened_rp')"
      ]
    },
    {
      "cell_type": "code",
      "execution_count": null,
      "id": "rough-press",
      "metadata": {
        "id": "rough-press"
      },
      "outputs": [],
      "source": [
        "users_opened_risks = users_opened_rp.join(users_neg_com_share, 'id', 'inner')"
      ]
    },
    {
      "cell_type": "code",
      "execution_count": null,
      "id": "russian-creation",
      "metadata": {
        "id": "russian-creation"
      },
      "outputs": [],
      "source": [
        "percentile_90 = users_opened_risks.groupBy()\\\n",
        "                                  .agg(expr('percentile(n_risks, array(0.90))')[0].alias('%90'))\\\n",
        "                                  .toPandas()['%90']\\\n",
        "                                  .values[0]"
      ]
    },
    {
      "cell_type": "code",
      "execution_count": null,
      "id": "answering-wednesday",
      "metadata": {
        "id": "answering-wednesday",
        "outputId": "e5f23b7f-468a-436a-f427-c95cf6ff0f6e"
      },
      "outputs": [
        {
          "name": "stdout",
          "output_type": "stream",
          "text": [
            "4.0\n"
          ]
        }
      ],
      "source": [
        "print(percentile_90)"
      ]
    },
    {
      "cell_type": "code",
      "execution_count": null,
      "id": "undefined-grove",
      "metadata": {
        "id": "undefined-grove"
      },
      "outputs": [],
      "source": [
        "# Bots and trolls accounts\n",
        "bots_trolls = users_opened_risks.filter((col('n_risks') > percentile_90) & (col('neg_share') > 0.5))\\\n",
        "                                .select('id')\\\n",
        "                                .union(users_banned.select('id'))\\\n",
        "                                .distinct()"
      ]
    },
    {
      "cell_type": "code",
      "execution_count": null,
      "id": "tested-capture",
      "metadata": {
        "id": "tested-capture"
      },
      "outputs": [],
      "source": [
        "# For reading if needed data was already obtained\n",
        "bots_trolls = spark.read.parquet('/tmp/juumnov-338467/Course_project_results/bots_trolls_ids')"
      ]
    },
    {
      "cell_type": "code",
      "execution_count": null,
      "id": "dangerous-cisco",
      "metadata": {
        "id": "dangerous-cisco",
        "outputId": "8ec58a89-4fe2-4ff7-db8e-dc8a4b870971"
      },
      "outputs": [
        {
          "name": "stdout",
          "output_type": "stream",
          "text": [
            ">>>>>> file: /tmp/juumnov-338467/Course_project_results/bots_trolls_ids >>> time: 0:00:19.734535\n"
          ]
        }
      ],
      "source": [
        "save_parquet(bots_trolls, 'bots_trolls_ids')"
      ]
    },
    {
      "cell_type": "code",
      "execution_count": null,
      "id": "permanent-bolivia",
      "metadata": {
        "id": "permanent-bolivia"
      },
      "outputs": [],
      "source": [
        "# Bots, trolls and banned accounts\n",
        "bots_trolls_banned = bots_trolls.union(users_banned.select('id'))"
      ]
    },
    {
      "cell_type": "code",
      "execution_count": null,
      "id": "invalid-martin",
      "metadata": {
        "id": "invalid-martin"
      },
      "outputs": [],
      "source": [
        "# For reading if needed data was already obtained\n",
        "bots_trolls_banned = spark.read.parquet('/tmp/juumnov-338467/Course_project_results/bots_trolls_banned_ids')"
      ]
    },
    {
      "cell_type": "code",
      "execution_count": null,
      "id": "swiss-justice",
      "metadata": {
        "id": "swiss-justice",
        "outputId": "2431b408-43e1-47b8-a9c0-e374b9744077"
      },
      "outputs": [
        {
          "name": "stdout",
          "output_type": "stream",
          "text": [
            ">>>>>> file: /tmp/juumnov-338467/Course_project_results/bots_trolls_banned_ids >>> time: 0:00:27.787968\n"
          ]
        }
      ],
      "source": [
        "save_parquet(bots_trolls_banned, 'bots_trolls_banned_ids')"
      ]
    },
    {
      "cell_type": "code",
      "execution_count": null,
      "id": "heavy-hudson",
      "metadata": {
        "id": "heavy-hudson"
      },
      "outputs": [],
      "source": [
        "# Find total number of harmful accounts\n",
        "n_suspect = bots_trolls_banned.count()"
      ]
    },
    {
      "cell_type": "code",
      "execution_count": null,
      "id": "detailed-banana",
      "metadata": {
        "id": "detailed-banana",
        "outputId": "b7dc585a-05cd-4a68-fc2b-777c959904b2"
      },
      "outputs": [
        {
          "name": "stdout",
          "output_type": "stream",
          "text": [
            "Total number of harmful accounts = 129569\n",
            "Share of such acounts = 8.5 %\n"
          ]
        }
      ],
      "source": [
        "print(f'Total number of harmful accounts = {n_suspect}')\n",
        "print(f'Share of such acounts = {np.round(n_suspect / n_unique * 100, 1)} %')"
      ]
    },
    {
      "cell_type": "markdown",
      "id": "external-spotlight",
      "metadata": {
        "id": "external-spotlight"
      },
      "source": [
        "### Group with most spam comments"
      ]
    },
    {
      "cell_type": "code",
      "execution_count": null,
      "id": "smaller-chain",
      "metadata": {
        "id": "smaller-chain"
      },
      "outputs": [],
      "source": [
        "groups_dict = {'group_name':[\"1 Канал\",\"Лентач\",\"РБК\",\"Роскомсвобода\",\"Дождь\",\"Вести\",\"Топор\",\"Медуза\",\"РенТВ\",\"Плохие Новости\",\"Life\",\"РИА\",\"Mash\"],\n",
        "               'group_id':[-25380626,-29534144,-25232578,-45023092,-17568841,-24136539,-170528132,-76982440,-26493942,-150709625,-24199209,-15755094,-112510789]}\n",
        "df = pd.DataFrame(groups_dict)\n",
        "groups_df = spark.createDataFrame(df)"
      ]
    },
    {
      "cell_type": "code",
      "execution_count": null,
      "id": "recognized-medication",
      "metadata": {
        "id": "recognized-medication",
        "outputId": "0dfa9f58-616b-4cac-e921-36af847e4a89"
      },
      "outputs": [
        {
          "data": {
            "text/html": [
              "<div>\n",
              "<style scoped>\n",
              "    .dataframe tbody tr th:only-of-type {\n",
              "        vertical-align: middle;\n",
              "    }\n",
              "\n",
              "    .dataframe tbody tr th {\n",
              "        vertical-align: top;\n",
              "    }\n",
              "\n",
              "    .dataframe thead th {\n",
              "        text-align: right;\n",
              "    }\n",
              "</style>\n",
              "<table border=\"1\" class=\"dataframe\">\n",
              "  <thead>\n",
              "    <tr style=\"text-align: right;\">\n",
              "      <th></th>\n",
              "      <th>group_name</th>\n",
              "      <th>group_id</th>\n",
              "    </tr>\n",
              "  </thead>\n",
              "  <tbody>\n",
              "    <tr>\n",
              "      <th>0</th>\n",
              "      <td>1 Канал</td>\n",
              "      <td>-25380626</td>\n",
              "    </tr>\n",
              "    <tr>\n",
              "      <th>1</th>\n",
              "      <td>Лентач</td>\n",
              "      <td>-29534144</td>\n",
              "    </tr>\n",
              "    <tr>\n",
              "      <th>2</th>\n",
              "      <td>РБК</td>\n",
              "      <td>-25232578</td>\n",
              "    </tr>\n",
              "    <tr>\n",
              "      <th>3</th>\n",
              "      <td>Роскомсвобода</td>\n",
              "      <td>-45023092</td>\n",
              "    </tr>\n",
              "    <tr>\n",
              "      <th>4</th>\n",
              "      <td>Дождь</td>\n",
              "      <td>-17568841</td>\n",
              "    </tr>\n",
              "  </tbody>\n",
              "</table>\n",
              "</div>"
            ],
            "text/plain": [
              "      group_name  group_id\n",
              "0        1 Канал -25380626\n",
              "1         Лентач -29534144\n",
              "2            РБК -25232578\n",
              "3  Роскомсвобода -45023092\n",
              "4          Дождь -17568841"
            ]
          },
          "execution_count": 20,
          "metadata": {},
          "output_type": "execute_result"
        }
      ],
      "source": [
        "groups_df.limit(5).toPandas()"
      ]
    },
    {
      "cell_type": "code",
      "execution_count": null,
      "id": "contrary-newark",
      "metadata": {
        "id": "contrary-newark",
        "outputId": "4d840840-eec1-40e0-f3c6-cc6861529134"
      },
      "outputs": [
        {
          "data": {
            "text/html": [
              "<div>\n",
              "<style scoped>\n",
              "    .dataframe tbody tr th:only-of-type {\n",
              "        vertical-align: middle;\n",
              "    }\n",
              "\n",
              "    .dataframe tbody tr th {\n",
              "        vertical-align: top;\n",
              "    }\n",
              "\n",
              "    .dataframe thead th {\n",
              "        text-align: right;\n",
              "    }\n",
              "</style>\n",
              "<table border=\"1\" class=\"dataframe\">\n",
              "  <thead>\n",
              "    <tr style=\"text-align: right;\">\n",
              "      <th></th>\n",
              "      <th>group_name</th>\n",
              "      <th>count</th>\n",
              "    </tr>\n",
              "  </thead>\n",
              "  <tbody>\n",
              "    <tr>\n",
              "      <th>0</th>\n",
              "      <td>РБК</td>\n",
              "      <td>431876</td>\n",
              "    </tr>\n",
              "  </tbody>\n",
              "</table>\n",
              "</div>"
            ],
            "text/plain": [
              "  group_name   count\n",
              "0        РБК  431876"
            ]
          },
          "execution_count": 26,
          "metadata": {},
          "output_type": "execute_result"
        }
      ],
      "source": [
        "# Group with greatest number of spam comments\n",
        "comments.filter(col('from_id').isin(list(bots_trolls_banned.toPandas()['id'])))\\\n",
        "        .join(groups_df, groups_df.group_id == comments.owner_id, 'inner')\\\n",
        "        .groupBy('group_name')\\\n",
        "        .count()\\\n",
        "        .orderBy(col('count').desc())\\\n",
        "        .limit(1)\\\n",
        "        .toPandas()"
      ]
    },
    {
      "cell_type": "markdown",
      "id": "racial-theory",
      "metadata": {
        "id": "racial-theory"
      },
      "source": [
        "### Top 10 posts with most spam comments"
      ]
    },
    {
      "cell_type": "code",
      "execution_count": null,
      "id": "focal-ranking",
      "metadata": {
        "id": "focal-ranking"
      },
      "outputs": [],
      "source": [
        "most_spamful_posts = comments.filter(col('from_id').isin(list(bots_trolls_banned.toPandas()['id'])))\\\n",
        "                             .join(groups_df, groups_df.group_id == comments.owner_id, 'inner')\\\n",
        "                             .groupBy('owner_id', 'post_id')\\\n",
        "                             .count()\\\n",
        "                             .orderBy(col('count').desc())\\\n",
        "                             .limit(10)"
      ]
    },
    {
      "cell_type": "code",
      "execution_count": null,
      "id": "rubber-interpretation",
      "metadata": {
        "id": "rubber-interpretation"
      },
      "outputs": [],
      "source": [
        "# For reading if needed data was already obtained\n",
        "most_spamful_posts = spark.read.parquet('/tmp/juumnov-338467/Course_project_results/most_spamful_posts')"
      ]
    },
    {
      "cell_type": "code",
      "execution_count": null,
      "id": "casual-astronomy",
      "metadata": {
        "id": "casual-astronomy",
        "outputId": "d29f6fa0-1946-46d6-ef1e-9a0e6e9337ee"
      },
      "outputs": [
        {
          "name": "stdout",
          "output_type": "stream",
          "text": [
            ">>>>>> file: /tmp/juumnov-338467/Course_project_results/most_spamful_posts >>> time: 0:04:03.840085\n"
          ]
        }
      ],
      "source": [
        "save_parquet(most_spamful_posts, 'most_spamful_posts')"
      ]
    },
    {
      "cell_type": "code",
      "execution_count": null,
      "id": "lasting-latex",
      "metadata": {
        "id": "lasting-latex",
        "outputId": "320d4095-82b8-4302-d54c-811376974ddd"
      },
      "outputs": [
        {
          "data": {
            "text/html": [
              "<div>\n",
              "<style scoped>\n",
              "    .dataframe tbody tr th:only-of-type {\n",
              "        vertical-align: middle;\n",
              "    }\n",
              "\n",
              "    .dataframe tbody tr th {\n",
              "        vertical-align: top;\n",
              "    }\n",
              "\n",
              "    .dataframe thead th {\n",
              "        text-align: right;\n",
              "    }\n",
              "</style>\n",
              "<table border=\"1\" class=\"dataframe\">\n",
              "  <thead>\n",
              "    <tr style=\"text-align: right;\">\n",
              "      <th></th>\n",
              "      <th>owner_id</th>\n",
              "      <th>post_id</th>\n",
              "      <th>count</th>\n",
              "      <th>group_name</th>\n",
              "    </tr>\n",
              "  </thead>\n",
              "  <tbody>\n",
              "    <tr>\n",
              "      <th>0</th>\n",
              "      <td>-150709625</td>\n",
              "      <td>8236914</td>\n",
              "      <td>377</td>\n",
              "      <td>Плохие Новости</td>\n",
              "    </tr>\n",
              "    <tr>\n",
              "      <th>1</th>\n",
              "      <td>-25380626</td>\n",
              "      <td>79652</td>\n",
              "      <td>371</td>\n",
              "      <td>1 Канал</td>\n",
              "    </tr>\n",
              "    <tr>\n",
              "      <th>2</th>\n",
              "      <td>-15755094</td>\n",
              "      <td>33153186</td>\n",
              "      <td>370</td>\n",
              "      <td>РИА</td>\n",
              "    </tr>\n",
              "    <tr>\n",
              "      <th>3</th>\n",
              "      <td>-150709625</td>\n",
              "      <td>9340121</td>\n",
              "      <td>346</td>\n",
              "      <td>Плохие Новости</td>\n",
              "    </tr>\n",
              "    <tr>\n",
              "      <th>4</th>\n",
              "      <td>-17568841</td>\n",
              "      <td>6400781</td>\n",
              "      <td>333</td>\n",
              "      <td>Дождь</td>\n",
              "    </tr>\n",
              "    <tr>\n",
              "      <th>5</th>\n",
              "      <td>-15755094</td>\n",
              "      <td>33791286</td>\n",
              "      <td>327</td>\n",
              "      <td>РИА</td>\n",
              "    </tr>\n",
              "    <tr>\n",
              "      <th>6</th>\n",
              "      <td>-24136539</td>\n",
              "      <td>5898815</td>\n",
              "      <td>317</td>\n",
              "      <td>Вести</td>\n",
              "    </tr>\n",
              "    <tr>\n",
              "      <th>7</th>\n",
              "      <td>-25232578</td>\n",
              "      <td>7598678</td>\n",
              "      <td>304</td>\n",
              "      <td>РБК</td>\n",
              "    </tr>\n",
              "    <tr>\n",
              "      <th>8</th>\n",
              "      <td>-15755094</td>\n",
              "      <td>32742675</td>\n",
              "      <td>296</td>\n",
              "      <td>РИА</td>\n",
              "    </tr>\n",
              "    <tr>\n",
              "      <th>9</th>\n",
              "      <td>-25380626</td>\n",
              "      <td>526951</td>\n",
              "      <td>287</td>\n",
              "      <td>1 Канал</td>\n",
              "    </tr>\n",
              "  </tbody>\n",
              "</table>\n",
              "</div>"
            ],
            "text/plain": [
              "    owner_id   post_id  count      group_name\n",
              "0 -150709625   8236914    377  Плохие Новости\n",
              "1  -25380626     79652    371         1 Канал\n",
              "2  -15755094  33153186    370             РИА\n",
              "3 -150709625   9340121    346  Плохие Новости\n",
              "4  -17568841   6400781    333           Дождь\n",
              "5  -15755094  33791286    327             РИА\n",
              "6  -24136539   5898815    317           Вести\n",
              "7  -25232578   7598678    304             РБК\n",
              "8  -15755094  32742675    296             РИА\n",
              "9  -25380626    526951    287         1 Канал"
            ]
          },
          "execution_count": 53,
          "metadata": {},
          "output_type": "execute_result"
        }
      ],
      "source": [
        "most_spamful_posts.join(groups_df, groups_df.group_id == most_spamful_posts.owner_id, 'inner')\\\n",
        "                  .select('owner_id','post_id','count','group_name')\\\n",
        "                  .orderBy(col('count').desc())\\\n",
        "                  .toPandas()"
      ]
    },
    {
      "cell_type": "markdown",
      "id": "familiar-chambers",
      "metadata": {
        "id": "familiar-chambers"
      },
      "source": [
        "### Groups shares in spam comments"
      ]
    },
    {
      "cell_type": "code",
      "execution_count": null,
      "id": "unknown-galaxy",
      "metadata": {
        "id": "unknown-galaxy"
      },
      "outputs": [],
      "source": [
        "spam_shares = comments.filter(col('from_id').isin(list(bots_trolls_banned.toPandas()['id'])))\\\n",
        "                      .groupBy('owner_id')\\\n",
        "                      .count()"
      ]
    },
    {
      "cell_type": "code",
      "execution_count": null,
      "id": "physical-study",
      "metadata": {
        "id": "physical-study"
      },
      "outputs": [],
      "source": [
        "# For reading if needed data was already obtained\n",
        "spam_shares = spark.read.parquet('/tmp/juumnov-338467/Course_project_results/spam_shares')"
      ]
    },
    {
      "cell_type": "code",
      "execution_count": null,
      "id": "extreme-blanket",
      "metadata": {
        "id": "extreme-blanket",
        "outputId": "cf75a6cb-e670-4500-c5ed-4980004e9990"
      },
      "outputs": [
        {
          "name": "stdout",
          "output_type": "stream",
          "text": [
            ">>>>>> file: /tmp/juumnov-338467/Course_project_results/spam_shares >>> time: 0:05:59.269751\n"
          ]
        }
      ],
      "source": [
        "save_parquet(spam_shares, 'spam_shares')"
      ]
    },
    {
      "cell_type": "code",
      "execution_count": null,
      "id": "needed-westminster",
      "metadata": {
        "id": "needed-westminster"
      },
      "outputs": [],
      "source": [
        "spam_shares = spam_shares.join(groups_df, groups_df.group_id == spam_shares.owner_id, 'inner')"
      ]
    },
    {
      "cell_type": "code",
      "execution_count": null,
      "id": "shaped-bunch",
      "metadata": {
        "id": "shaped-bunch",
        "outputId": "dfea6820-b804-44d7-ab9a-fe5b897014cf"
      },
      "outputs": [
        {
          "data": {
            "image/png": "[encoded data removed]",
            "text/plain": [
              "<Figure size 576x432 with 1 Axes>"
            ]
          },
          "metadata": {},
          "output_type": "display_data"
        }
      ],
      "source": [
        "plt.figure(figsize=(8,6))\n",
        "plt.pie(list(spam_shares.toPandas()['count']), \n",
        "        labels=list(spam_shares.toPandas()['group_name']), \n",
        "        autopct='%1.2f%%', \n",
        "        radius=1.2, \n",
        "        wedgeprops={'linewidth': 1.0, 'edgecolor': 'white'}, \n",
        "        textprops={'size': 12})\n",
        "plt.show()"
      ]
    },
    {
      "cell_type": "markdown",
      "id": "exposed-springfield",
      "metadata": {
        "id": "exposed-springfield"
      },
      "source": [
        "### Groups comparison"
      ]
    },
    {
      "cell_type": "code",
      "execution_count": null,
      "id": "balanced-induction",
      "metadata": {
        "id": "balanced-induction"
      },
      "outputs": [],
      "source": [
        "groups_len = comments.groupBy('owner_id')\\\n",
        "                     .count()"
      ]
    },
    {
      "cell_type": "code",
      "execution_count": null,
      "id": "disciplinary-closer",
      "metadata": {
        "id": "disciplinary-closer"
      },
      "outputs": [],
      "source": [
        "groups_len = groups_len.join(groups_df, groups_df.group_id == groups_len.owner_id, 'inner')"
      ]
    },
    {
      "cell_type": "code",
      "execution_count": null,
      "id": "worse-shoulder",
      "metadata": {
        "id": "worse-shoulder",
        "outputId": "8c2920d2-212f-4c63-8f23-d272ad372b24"
      },
      "outputs": [
        {
          "data": {
            "image/png": "[encoded data removed]",
            "text/plain": [
              "<Figure size 1080x432 with 1 Axes>"
            ]
          },
          "metadata": {
            "needs_background": "light"
          },
          "output_type": "display_data"
        }
      ],
      "source": [
        "fig, ax = plt.subplots(figsize=(15,6))\n",
        "ax.bar(list(spam_shares.orderBy('group_name').toPandas()['group_name']), list(groups_len.orderBy('group_name').toPandas()['count']), label='total № of comments')\n",
        "ax.bar(list(spam_shares.orderBy('group_name').toPandas()['group_name']), list(spam_shares.orderBy('group_name').toPandas()['count']), label='spam comments')\n",
        "plt.xlabel('group_name')\n",
        "plt.ylabel('n_posts')\n",
        "plt.legend()\n",
        "for i in range(13):\n",
        "    plt.annotate(str(np.round(list(spam_shares.orderBy('group_name').toPandas()['count'])[i] / list(groups_len.orderBy('group_name').toPandas()['count'])[i], 2)), xy=(list(spam_shares.orderBy('group_name').toPandas()['group_name'])[i],\n",
        "                             np.round(list(spam_shares.orderBy('group_name').toPandas()['count'])[i] / list(groups_len.orderBy('group_name').toPandas()['count'])[i], 2)), color='white', ha='center', va='bottom')\n",
        "plt.grid()\n",
        "plt.legend()\n",
        "plt.show()"
      ]
    }
  ],
  "metadata": {
    "kernelspec": {
      "display_name": "Python 3",
      "language": "python",
      "name": "python3"
    },
    "language_info": {
      "codemirror_mode": {
        "name": "ipython",
        "version": 3
      },
      "file_extension": ".py",
      "mimetype": "text/x-python",
      "name": "python",
      "nbconvert_exporter": "python",
      "pygments_lexer": "ipython3",
      "version": "3.8.8"
    },
    "colab": {
      "name": "Course_project.ipynb",
      "provenance": [],
      "collapsed_sections": [
        "raising-inside",
        "welsh-blocking",
        "listed-focus",
        "brutal-withdrawal",
        "armed-listening",
        "diverse-latino",
        "external-spotlight",
        "racial-theory",
        "familiar-chambers",
        "exposed-springfield"
      ]
    }
  },
  "nbformat": 4,
  "nbformat_minor": 5
}